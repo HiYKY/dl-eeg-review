{
 "cells": [
  {
   "cell_type": "markdown",
   "metadata": {},
   "source": [
    "# Reporting of results sandbox\n",
    "\n",
    "This notebook is a sandbox for working on the \"Reporting of results\" section of the review."
   ]
  },
  {
   "cell_type": "code",
   "execution_count": 1,
   "metadata": {},
   "outputs": [],
   "source": [
    "import pandas as pd\n",
    "import numpy as np\n",
    "import matplotlib.pyplot as plt\n",
    "import seaborn as sns\n",
    "\n",
    "sns.set_context('paper')\n",
    "sns.set_style('white')"
   ]
  },
  {
   "cell_type": "code",
   "execution_count": null,
   "metadata": {},
   "outputs": [],
   "source": [
    "fname = '../data/reporting_results.csv'\n",
    "df = pd.read_csv(fname, header=0)\n",
    "df = df.drop(columns=['Unnamed: 0', 'Title', 'Comment'])\n",
    "df['Result'] = pd.to_numeric(df['Result'], errors='coerce')\n",
    "df = df.dropna()"
   ]
  },
  {
   "cell_type": "code",
   "execution_count": null,
   "metadata": {},
   "outputs": [],
   "source": [
    "df.tail()"
   ]
  },
  {
   "cell_type": "code",
   "execution_count": null,
   "metadata": {},
   "outputs": [],
   "source": [
    "def extract_model_type(x):\n",
    "    if 'arch' in x:\n",
    "        out = 'Proposed'\n",
    "    elif 'trad' in x:\n",
    "        out = 'Baseline (traditional)'\n",
    "    elif 'dl' in x:\n",
    "        out = 'Baseline (deep learning)'\n",
    "    else:\n",
    "        raise ValueError('Model type {} not supported.'.format(x))\n",
    "    \n",
    "    return out\n",
    "\n",
    "df['model_type'] = df['Model'].apply(extract_model_type)"
   ]
  },
  {
   "cell_type": "code",
   "execution_count": null,
   "metadata": {},
   "outputs": [],
   "source": [
    "# Extract accuracy rows only\n",
    "acc_df = df[df['Metric'] == 'accuracy']"
   ]
  },
  {
   "cell_type": "code",
   "execution_count": null,
   "metadata": {},
   "outputs": [],
   "source": [
    "# Create new column that contains both citation and task information\n",
    "acc_df['citation_task'] = acc_df[['Citation', 'Task']].apply(lambda x: ' ['.join(x) + ']', axis=1)\n",
    "\n",
    "# Create a new column with the year\n",
    "acc_df['year'] = acc_df['Citation'].apply(lambda x: int(x[x.find('2'):x.find('2') + 4]))"
   ]
  },
  {
   "cell_type": "code",
   "execution_count": null,
   "metadata": {},
   "outputs": [],
   "source": [
    "# Order by average proposed model accuracy\n",
    "# acc_ind = acc_df[acc_df['model_type']=='Proposed'].groupby('Citation').mean().sort_values(by='year').index\n",
    "acc_ind = acc_df[acc_df['model_type']=='Proposed'].groupby('Citation').mean().sort_values(by='Result').index\n",
    "acc_df['Citation'] = acc_df['Citation'].astype('category')\n",
    "acc_df['Citation'].cat.set_categories(acc_ind, inplace=True)\n",
    "acc_df = acc_df.sort_values(['Citation'])"
   ]
  },
  {
   "cell_type": "code",
   "execution_count": null,
   "metadata": {},
   "outputs": [],
   "source": [
    "acc_df"
   ]
  },
  {
   "cell_type": "code",
   "execution_count": null,
   "metadata": {},
   "outputs": [],
   "source": [
    "# Only keep 2 best per task and model type\n",
    "acc2_df = acc_df.sort_values(['Citation', 'Task', 'model_type', 'Result'], ascending=True).groupby(\n",
    "                ['Citation', 'Task', 'model_type']).tail(2)"
   ]
  },
  {
   "cell_type": "code",
   "execution_count": null,
   "metadata": {},
   "outputs": [],
   "source": [
    "fig, ax = plt.subplots(figsize=(6, 18));\n",
    "sns.catplot(y='citation_task', x='Result', hue='model_type', data=acc2_df, ax=ax);\n",
    "ax.set_xlabel('accuracy')\n",
    "ax.set_ylabel('')"
   ]
  },
  {
   "cell_type": "markdown",
   "metadata": {},
   "source": [
    "## Looking at the difference in accuracy"
   ]
  },
  {
   "cell_type": "code",
   "execution_count": null,
   "metadata": {},
   "outputs": [],
   "source": [
    "# Only keep the maximum accuracy per citation & task\n",
    "best_df = acc_df.groupby(['Citation', 'Task', 'model_type'])['Result'].max().reset_index()\n",
    "\n",
    "# Only keep citations/tasks that have a traditional baseline\n",
    "best_df = best_df.groupby(['Citation', 'Task']).filter(lambda x: 'Baseline (traditional)' in x.values).reset_index()\n",
    "\n",
    "#  Compute difference between proposed and traditional baseline\n",
    "diff_df = best_df.groupby(['Citation', 'Task']).apply(\n",
    "            lambda x: x[x['model_type'] == 'Proposed']['Result'].iloc[0] - \\\n",
    "                      x[x['model_type'] == 'Baseline (traditional)']['Result'].iloc[0]).reset_index()\n",
    "diff_df = diff_df.rename(columns={0: 'acc_diff'})"
   ]
  },
  {
   "cell_type": "code",
   "execution_count": null,
   "metadata": {},
   "outputs": [],
   "source": [
    "diff_df.describe()"
   ]
  },
  {
   "cell_type": "code",
   "execution_count": null,
   "metadata": {},
   "outputs": [],
   "source": [
    "fig, ax = plt.subplots(figsize=(6, 18));\n",
    "sns.catplot(y='Task', x='acc_diff', data=diff_df, ax=ax);\n",
    "ax.set_xlabel('Accuracy difference')\n",
    "ax.set_ylabel('')\n",
    "ax.axvline(0, c='k', alpha=0.2)"
   ]
  },
  {
   "cell_type": "code",
   "execution_count": null,
   "metadata": {},
   "outputs": [],
   "source": [
    "fig, ax = plt.subplots()\n",
    "sns.distplot(diff_df['acc_diff'], kde=False, rug=True, ax=ax)\n",
    "ax.set_xlabel('Accuracy difference')\n",
    "ax.set_ylabel('Number of studies')"
   ]
  },
  {
   "cell_type": "code",
   "execution_count": null,
   "metadata": {},
   "outputs": [],
   "source": [
    "fig, ax = plt.subplots(figsize=(6, 2))\n",
    "ax = sns.boxplot(x='acc_diff', data=diff_df)\n",
    "ax = sns.swarmplot(x='acc_diff', data=diff_df, color=\"0\", alpha=0.6)"
   ]
  },
  {
   "cell_type": "code",
   "execution_count": null,
   "metadata": {},
   "outputs": [],
   "source": [
    "# Pivot dataframe to plot proposed vs. baseline accuracy as a scatterplot\n",
    "best_df['citation_task'] = best_df[['Citation', 'Task']].apply(lambda x: ' ['.join(x) + ']', axis=1)\n",
    "acc_comparison_df = best_df.pivot(index='citation_task', columns='model_type', values='Result')"
   ]
  },
  {
   "cell_type": "code",
   "execution_count": null,
   "metadata": {},
   "outputs": [],
   "source": [
    "fig, ax = plt.subplots()\n",
    "sns.scatterplot(data=acc_comparison_df, x='Baseline (traditional)', y='Proposed', ax=ax)\n",
    "ax.plot([0, 1.1], [0, 1.1], c='k', alpha=0.2)\n",
    "plt.axis('square')\n",
    "ax.set_xlim([0, 1.1])\n",
    "ax.set_ylim([0, 1.1])"
   ]
  },
  {
   "cell_type": "markdown",
   "metadata": {},
   "source": [
    "## Adding in domain information"
   ]
  },
  {
   "cell_type": "code",
   "execution_count": null,
   "metadata": {},
   "outputs": [],
   "source": [
    "def load_data_items(start_year=2010):\n",
    "    \"\"\"Load data items table.\n",
    "\n",
    "    TODO:\n",
    "    - Normalize column names?\n",
    "    - Double check all the required columns are there?\n",
    "    \"\"\"\n",
    "    fname = '../data/data_items.csv'\n",
    "    df = pd.read_csv(fname, header=1)\n",
    "\n",
    "    # A little cleaning up\n",
    "    df = df.dropna(axis=0, how='all')\n",
    "    df = df.dropna(axis=1, how='all', thresh=int(df.shape[0] * 0.1))\n",
    "    df = df[df['Year'] >= start_year]\n",
    "\n",
    "    return df"
   ]
  },
  {
   "cell_type": "code",
   "execution_count": null,
   "metadata": {},
   "outputs": [],
   "source": [
    "data_items_df = load_data_items(start_year=2010)\n",
    "domains_df = data_items_df.filter(regex='(?=Domain*|Citation)')"
   ]
  },
  {
   "cell_type": "code",
   "execution_count": null,
   "metadata": {},
   "outputs": [],
   "source": [
    "data_items_df.shape[0]"
   ]
  },
  {
   "cell_type": "code",
   "execution_count": null,
   "metadata": {},
   "outputs": [],
   "source": [
    "100 - 100 * data_items_df['Statistical analysis of performance'].value_counts()['No'] / data_items_df.shape[0]"
   ]
  },
  {
   "cell_type": "code",
   "execution_count": null,
   "metadata": {},
   "outputs": [],
   "source": [
    "# Concatenate domains into one string\n",
    "def concat_domains(x):\n",
    "    domain = ''\n",
    "    for i in x[1:]:\n",
    "        if isinstance(i, str):\n",
    "            domain += i + '/'\n",
    "    return domain[:-1]\n",
    "\n",
    "domains_df['domain'] = data_items_df.filter(regex='(?=Domain*)').apply(concat_domains, axis=1)"
   ]
  },
  {
   "cell_type": "code",
   "execution_count": null,
   "metadata": {},
   "outputs": [],
   "source": [
    "diff_domain_df = diff_df.merge(domains_df, on='Citation', how='left')\n",
    "diff_domain_df = diff_domain_df.sort_values(by='domain')\n",
    "diff_domain_df.head()"
   ]
  },
  {
   "cell_type": "code",
   "execution_count": null,
   "metadata": {},
   "outputs": [],
   "source": [
    "fig, ax = plt.subplots(figsize=(6, 8));\n",
    "sns.catplot(y='domain', x='acc_diff', jitter=True, data=diff_domain_df, ax=ax);\n",
    "ax.set_xlabel('Accuracy difference')\n",
    "ax.set_ylabel('')\n",
    "ax.axvline(0, c='k', alpha=0.2)"
   ]
  },
  {
   "cell_type": "code",
   "execution_count": null,
   "metadata": {},
   "outputs": [],
   "source": [
    "import matplotlib.gridspec as gridspec\n",
    "\n",
    "fig = plt.figure(figsize=(6, 50))\n",
    "gs1 = gridspec.GridSpec(6, 1)\n",
    "gs1.update(hspace=0.025) # set the spacing between axes. \n",
    "\n",
    "ax1 = plt.subplot(gs1[0])\n",
    "sns.catplot(y='domain', x='acc_diff', size=3, jitter=True, data=diff_domain_df, ax=ax1);\n",
    "ax1.set_xlabel('')\n",
    "ax1.set_ylabel('')\n",
    "ax1.axvline(0, c='k', alpha=0.2)\n",
    "\n",
    "ax2 = plt.subplot(gs1[1])\n",
    "sns.boxplot(x='acc_diff', data=diff_df, ax=ax2)\n",
    "sns.swarmplot(x='acc_diff', data=diff_df, color=\"0\", size=3, ax=ax2)\n",
    "ax2.axvline(0, c='k', alpha=0.2)\n",
    "ax2.set_xlabel('Accuracy difference')"
   ]
  },
  {
   "cell_type": "code",
   "execution_count": null,
   "metadata": {},
   "outputs": [],
   "source": [
    "diff_df.nlargest(1, 'acc_diff')['Citation'].values[0]"
   ]
  },
  {
   "cell_type": "code",
   "execution_count": null,
   "metadata": {},
   "outputs": [],
   "source": [
    "fig, axes = plt.subplots(nrows=2, ncols=1, sharex=True, figsize=(6, 8), gridspec_kw = {'height_ratios':[5, 1]});\n",
    "\n",
    "sns.catplot(y='domain', x='acc_diff', size=3, jitter=True, data=diff_domain_df, ax=axes[0]);\n",
    "axes[0].set_xlabel('')\n",
    "axes[0].set_ylabel('')\n",
    "axes[0].axvline(0, c='k', alpha=0.2)\n",
    "\n",
    "sns.boxplot(x='acc_diff', data=diff_df, ax=axes[1])\n",
    "sns.swarmplot(x='acc_diff', data=diff_df, color=\"0\", size=3, ax=axes[1])\n",
    "axes[1].axvline(0, c='k', alpha=0.2)\n",
    "axes[1].set_xlabel('Accuracy difference')\n",
    "\n",
    "fig.subplots_adjust(wspace=0, hspace=0.02)\n",
    "\n",
    "iqr = diff_df['acc_diff'].quantile(.75) - diff_df['acc_diff'].quantile(.25)\n",
    "print(diff_df['acc_diff'].describe())\n",
    "print('iqr\\t{:.6f}'.format(iqr))"
   ]
  },
  {
   "cell_type": "markdown",
   "metadata": {},
   "source": [
    "## Inspection/visualization techniques"
   ]
  },
  {
   "cell_type": "code",
   "execution_count": null,
   "metadata": {},
   "outputs": [],
   "source": [
    "# Separate rows that contain multiple values into multiple rows\n",
    "def lstrip(list_of_strs):\n",
    "    \"\"\"Remove left space and make lowercase.\"\"\"\n",
    "    return [a.lstrip().lower() for a in list_of_strs] \n",
    "\n",
    "data_items_df['inspection_list'] = data_items_df['Model inspection (clean)'].str.split(',').apply(lstrip)\n",
    "\n",
    "inspection_per_article = list()\n",
    "for i, items in data_items_df[['Citation', 'inspection_list']].iterrows():\n",
    "    for m in items['inspection_list']:\n",
    "        inspection_per_article.append([i, items['Citation'], m])\n",
    "        \n",
    "inspection_df = pd.DataFrame(inspection_per_article, columns=['paper nb', 'Citation', 'inspection method'])\n",
    "\n",
    "# Replace \"no\" by \"None\"\n",
    "inspection_df['inspection method'][inspection_df['inspection method'] == 'no'] = 'None'"
   ]
  },
  {
   "cell_type": "code",
   "execution_count": null,
   "metadata": {},
   "outputs": [],
   "source": [
    "inspection_df.head()"
   ]
  },
  {
   "cell_type": "code",
   "execution_count": null,
   "metadata": {},
   "outputs": [],
   "source": [
    "(inspection_df['inspection method'].value_counts() / inspection_df.shape[0])['None'] "
   ]
  },
  {
   "cell_type": "code",
   "execution_count": null,
   "metadata": {},
   "outputs": [],
   "source": [
    "# Removing low count categories\n",
    "cutoff = 1\n",
    "\n",
    "inspection_counts = inspection_df['inspection method'].value_counts()\n",
    "inspection_df = inspection_df[inspection_df['inspection method'].isin(\n",
    "    inspection_counts[(inspection_counts >= cutoff)].index)]\n",
    "\n",
    "fig, ax = plt.subplots(figsize=(10, 7))\n",
    "ax = sns.countplot(y='inspection method', data=inspection_df, \n",
    "                   order=inspection_df['inspection method'].value_counts().index)\n",
    "ax.set_xlabel('Number of papers')\n",
    "ax.set_ylabel('')\n",
    "plt.tight_layout()"
   ]
  },
  {
   "cell_type": "code",
   "execution_count": null,
   "metadata": {},
   "outputs": [],
   "source": [
    "# Percentages\n",
    "inspection_df['inspection method'].value_counts() / len(np.unique(inspection_df['Citation']))"
   ]
  },
  {
   "cell_type": "code",
   "execution_count": null,
   "metadata": {},
   "outputs": [],
   "source": [
    "# List of citations per category\n",
    "inspection_categories = inspection_df.groupby('inspection method')['Citation'].apply(list)\n",
    "inspection_categories['generating input to maximize activation']"
   ]
  },
  {
   "cell_type": "markdown",
   "metadata": {},
   "source": [
    "## Origin"
   ]
  },
  {
   "cell_type": "code",
   "execution_count": null,
   "metadata": {},
   "outputs": [],
   "source": [
    "fig, ax = plt.subplots()\n",
    "sns.countplot(data_items_df['Type of paper'], ax=ax)\n",
    "ax.set_xlabel('')\n",
    "ax.set_ylabel('Number of papers')\n",
    "\n",
    "print(data_items_df['Type of paper'].value_counts())"
   ]
  },
  {
   "cell_type": "code",
   "execution_count": null,
   "metadata": {},
   "outputs": [],
   "source": [
    "fig, ax = plt.subplots()\n",
    "sns.countplot(data_items_df[data_items_df['Type of paper'] != 'Preprint']['Preprint first'])\n",
    "ax.set_ylabel('Number of papers')\n",
    "\n",
    "print(data_items_df[data_items_df['Type of paper'] != 'Preprint']['Preprint first'].value_counts())"
   ]
  },
  {
   "cell_type": "code",
   "execution_count": null,
   "metadata": {},
   "outputs": [],
   "source": [
    "fig, ax = plt.subplots(figsize=(7, 30))\n",
    "sns.countplot(y=data_items_df['Journal / Origin'], ax=ax,\n",
    "              order=data_items_df['Journal / Origin'].value_counts().index)\n",
    "ax.set_xlim([0, 5])"
   ]
  },
  {
   "cell_type": "code",
   "execution_count": null,
   "metadata": {},
   "outputs": [],
   "source": [
    "fig, ax = plt.subplots()\n",
    "sns.countplot(y=data_items_df['Country'], ax=ax,\n",
    "              order=data_items_df['Country'].value_counts().index)\n",
    "ax.set_xlabel('Number of papers')\n",
    "ax.set_ylabel('')"
   ]
  },
  {
   "cell_type": "code",
   "execution_count": null,
   "metadata": {},
   "outputs": [],
   "source": [
    "fig, ax = plt.subplots()\n",
    "sns.countplot(y=data_items_df['Pages'], ax=ax,\n",
    "              order=data_items_df['Pages'].value_counts().index)\n",
    "ax.set_xlabel('Number of papers')\n",
    "ax.set_ylabel('')"
   ]
  },
  {
   "cell_type": "markdown",
   "metadata": {},
   "source": [
    "### Authors"
   ]
  },
  {
   "cell_type": "code",
   "execution_count": null,
   "metadata": {},
   "outputs": [],
   "source": [
    "# Separate rows that contain multiple values into multiple rows\n",
    "def lstrip(list_of_strs):\n",
    "    \"\"\"Remove left space and make lowercase.\"\"\"\n",
    "    return [a.lstrip().lower() for a in list_of_strs] \n",
    "\n",
    "data_items_df['authors'] = data_items_df['Authors'].str.replace(' &', ',').str.split(',').apply(lstrip)\n",
    "\n",
    "authors_per_article = list()\n",
    "for i, items in data_items_df[['Citation', 'authors']].iterrows():\n",
    "    for m in items['authors']:\n",
    "        authors_per_article.append([i, items['Citation'], m])\n",
    "        \n",
    "authors_df = pd.DataFrame(authors_per_article, columns=['paper nb', 'Citation', 'author'])"
   ]
  },
  {
   "cell_type": "code",
   "execution_count": null,
   "metadata": {},
   "outputs": [],
   "source": [
    "fig, ax = plt.subplots(figsize=(10, 40))\n",
    "sns.countplot(y=authors_df['author'], ax=ax,\n",
    "              order=authors_df['author'].value_counts().index)\n",
    "ax.set_xlabel('Number of papers')\n",
    "ax.set_ylabel('')"
   ]
  },
  {
   "cell_type": "markdown",
   "metadata": {},
   "source": [
    "## Developing new bar graph to replace pie charts"
   ]
  },
  {
   "cell_type": "code",
   "execution_count": null,
   "metadata": {},
   "outputs": [],
   "source": []
  },
  {
   "cell_type": "markdown",
   "metadata": {},
   "source": [
    "## Making domains vs. architectures table"
   ]
  },
  {
   "cell_type": "code",
   "execution_count": null,
   "metadata": {},
   "outputs": [],
   "source": [
    "data_items_df = load_data_items(start_year=2010)\n",
    "data_items_df.head()"
   ]
  },
  {
   "cell_type": "code",
   "execution_count": null,
   "metadata": {},
   "outputs": [],
   "source": [
    "def replace_nans_in_column(df, column_name, replace_by=' '):\n",
    "    nan_ind = df[column_name].apply(lambda x: np.isnan(x) if isinstance(x, float) else False)\n",
    "    df.loc[nan_ind, column_name] = replace_by\n",
    "    return df\n",
    "    \n",
    "# Replace NaNs by ' ' in 'Domain 3' and 'Domain 4' columns\n",
    "data_items_df = replace_nans_in_column(data_items_df, 'Domain 3', replace_by=' ')\n",
    "data_items_df = replace_nans_in_column(data_items_df, 'Domain 4', replace_by=' ')"
   ]
  },
  {
   "cell_type": "code",
   "execution_count": null,
   "metadata": {},
   "outputs": [],
   "source": [
    "# Add escape character in front of characters that happen to be special LaTeX characters\n",
    "import re\n",
    "\n",
    "def tex_escape(text):\n",
    "    \"\"\"\n",
    "        :param text: a plain text message\n",
    "        :return: the message escaped to appear correctly in LaTeX\n",
    "        \n",
    "        From https://stackoverflow.com/a/25875504\n",
    "    \"\"\"\n",
    "    conv = {\n",
    "        '&': r'\\&',\n",
    "        '%': r'\\%',\n",
    "        '$': r'\\$',\n",
    "        '#': r'\\#',\n",
    "        '_': r'\\_',\n",
    "        '{': r'\\{',\n",
    "        '}': r'\\}',\n",
    "        '~': r'\\textasciitilde{}',\n",
    "        '^': r'\\^{}',\n",
    "        '\\\\': r'\\textbackslash{}',\n",
    "        '<': r'\\textless{}',\n",
    "        '>': r'\\textgreater{}',\n",
    "    }\n",
    "    regex = re.compile('|'.join(re.escape(str(key)) for key in sorted(conv.keys(), key = lambda item: - len(item))))\n",
    "    return regex.sub(lambda match: conv[match.group()], text)\n",
    "\n",
    "cols = ['Domain 1', 'Domain 2', 'Domain 3', 'Domain 4', 'Architecture (clean)']\n",
    "data_items_df[cols] = data_items_df[cols].applymap(tex_escape)"
   ]
  },
  {
   "cell_type": "code",
   "execution_count": null,
   "metadata": {},
   "outputs": [],
   "source": [
    "# Make tuple of first 2 domain levels\n",
    "domains_df = data_items_df.groupby(['Domain 1', 'Domain 2', 'Domain 3', 'Domain 4', 'Architecture (clean)'])[\n",
    "                'Citation'].apply(list).apply(lambda x: '\\cite{' + ', '.join(x) + '}').unstack()\n",
    "\n",
    "domains_df = domains_df.applymap(lambda x: ' ' if isinstance(x, float) and np.isnan(x) else x)\n",
    "\n",
    "with open('domains_architecture_table.tex', 'w') as f:\n",
    "    with pd.option_context(\"max_colwidth\", 1000):\n",
    "        f.write(domains_df.to_latex(escape=False, column_format='p{1.5cm}' * 4 + 'p{0.6cm}' * domains_df.shape[1]))"
   ]
  },
  {
   "cell_type": "code",
   "execution_count": null,
   "metadata": {},
   "outputs": [],
   "source": [
    "domains_df"
   ]
  },
  {
   "cell_type": "markdown",
   "metadata": {},
   "source": [
    "## PRISMA diagram"
   ]
  },
  {
   "cell_type": "code",
   "execution_count": null,
   "metadata": {},
   "outputs": [],
   "source": [
    "from graphviz import Digraph"
   ]
  },
  {
   "cell_type": "code",
   "execution_count": null,
   "metadata": {},
   "outputs": [],
   "source": [
    "dot = Digraph(format='eps')\n",
    "dot.attr('graph', rankdir='TB', overlap='false')\n",
    "dot.attr('node', fontname='Liberation Sans', fontsize=str(10), shape='box', style='filled',\n",
    "         margin='0.2,0.01', penwidth='0.5')\n",
    "\n",
    "fillcolor = 'gray98'\n",
    "\n",
    "dot.node('A', 'PubMed (n=39)\\nGoogle Scholar (n=409)\\narXiv (n=105)', fillcolor=fillcolor)\n",
    "dot.node('B', 'Articles identified\\nthrough database\\nsearching\\n(n=553)', fillcolor=fillcolor)\n",
    "# dot.node('B2', 'Excluded\\n(n=446)', fillcolor=fillcolor)\n",
    "dot.node('C', 'Articles after content\\nscreening and\\nduplicate removal\\n(n=107) ', fillcolor=fillcolor)\n",
    "dot.node('D', 'Articles included in\\nthe analysis\\n(n=156)', fillcolor=fillcolor)\n",
    "dot.node('E', 'Additional articles\\nidentified through\\nbibliography search\\n(n=49)', fillcolor=fillcolor)\n",
    "\n",
    "dot.edge('B', 'C')\n",
    "# dot.edge('B', 'B2')\n",
    "dot.edge('C', 'D')\n",
    "dot.edge('E', 'D')\n",
    "\n",
    "dot"
   ]
  },
  {
   "cell_type": "markdown",
   "metadata": {},
   "source": [
    "## Number of subjects"
   ]
  },
  {
   "cell_type": "code",
   "execution_count": null,
   "metadata": {},
   "outputs": [],
   "source": [
    "def lstrip(list_of_strs, lower=True):\n",
    "    \"\"\"Remove left space and make lowercase.\"\"\"\n",
    "    return [a.lstrip().lower() if lower else a.lstrip() for a in list_of_strs]\n",
    "\n",
    "\n",
    "def split_column_with_multiple_entries(df, col, ref_col='Citation', sep=';\\n', lower=True):\n",
    "    \"\"\"Split the content of a column that contains more than one value per cell.\n",
    "    \n",
    "    Split the content of cells that contain more than one value. Some cells \n",
    "    contain two or more values for a single data item, e.g., \n",
    "        \n",
    "        Number of subjects: '15, 203, 23'\n",
    "        \n",
    "    A DataFrame where each row contains a single value per cell is returned.\n",
    "    \n",
    "    Args:\n",
    "        df (pd.DataFrame)\n",
    "        col (str): name of the column to split\n",
    "        \n",
    "    Keyword Args:\n",
    "        ref_col (str): identifier column to use to identify the row of\n",
    "            origin of a splitted value.\n",
    "        sep (str): separator between multiple values\n",
    "        lower (bool): if True, make all values lowercase\n",
    "        \n",
    "    Returns:\n",
    "        (pd.DataFrame)\n",
    "    \"\"\"\n",
    "    df['temp'] = df[col].str.split(sep).apply(lstrip, lower=lower)\n",
    "    \n",
    "    value_per_row = list()\n",
    "    for i, items in df[[ref_col, 'temp']].iterrows():\n",
    "        for m in items['temp']:\n",
    "            value_per_row.append([i, items[ref_col], m])\n",
    "\n",
    "    return pd.DataFrame(value_per_row, columns=['paper nb', ref_col, col])"
   ]
  },
  {
   "cell_type": "code",
   "execution_count": null,
   "metadata": {},
   "outputs": [],
   "source": [
    "# Extract main domains\n",
    "main_domains = ['Epilepsy', 'Sleep', 'BCI', 'Affective', 'Cognitive', \n",
    "                'Improvement of processing tools', 'Generation of data']\n",
    "domains_df = data_items_df[['Domain 1', 'Domain 2', 'Domain 3', 'Domain 4']]\n",
    "data_items_df['Main domain'] = [row[row.isin(main_domains)].values[0] \n",
    "    if any(row.isin(main_domains)) else 'Others' \n",
    "    for ind, row in domains_df.iterrows()]\n",
    "\n",
    "# Split values into separate rows and remove invalid values\n",
    "nb_subj_df = split_column_with_multiple_entries(data_items_df, 'Data - subjects', ref_col='Main domain')\n",
    "nb_subj_df['Data - subjects'] = nb_subj_df['Data - subjects'].astype(int)\n",
    "nb_subj_df = nb_subj_df.loc[nb_subj_df['Data - subjects'] > 0, :]\n",
    "\n",
    "fig, ax = plt.subplots()\n",
    "ax.set(xscale='log', yscale='linear')\n",
    "sns.swarmplot(y='Main domain', x='Data - subjects', data=nb_subj_df, ax=ax, size=1,\n",
    "            order=nb_subj_df.groupby(['Main domain'])['Data - subjects'].median().sort_values().index)\n",
    "ax.set_xlabel('Number of subjects')\n",
    "ax.set_ylabel('')"
   ]
  },
  {
   "cell_type": "markdown",
   "metadata": {},
   "source": [
    "## Number of EEG channels and hardware"
   ]
  },
  {
   "cell_type": "code",
   "execution_count": null,
   "metadata": {},
   "outputs": [],
   "source": [
    "# 2) Extract # channels\n",
    "# 3) Make matrix\n",
    "# 4) Plot"
   ]
  },
  {
   "cell_type": "code",
   "execution_count": null,
   "metadata": {},
   "outputs": [],
   "source": [
    "# Extract vendor\n",
    "hardware_df = split_column_with_multiple_entries(\n",
    "    data_items_df, 'EEG Hardware', ref_col='Citation', sep=',', lower=False)\n",
    "\n",
    "def extract_vendor_from_hardware(s):\n",
    "    if s != 'N/M':\n",
    "        return s[s.find('(') + 1:s.find(')')]\n",
    "    else:\n",
    "        return 'N/M'\n",
    "    \n",
    "hardware_df['vendor'] = hardware_df['EEG Hardware'].apply(extract_vendor_from_hardware)\n",
    "hardware_df.shape"
   ]
  },
  {
   "cell_type": "code",
   "execution_count": null,
   "metadata": {},
   "outputs": [],
   "source": [
    "nb_channels_df = split_column_with_multiple_entries(\n",
    "    data_items_df, 'Nb Channels', ref_col='Citation', sep=';\\n', lower=False)\n",
    "nb_channels_df['Nb Channels'] = nb_channels_df['Nb Channels'].astype(int)\n",
    "nb_channels_df = nb_channels_df.loc[nb_channels_df['Nb Channels'] > 0, :]\n",
    "\n",
    "fs_df = split_column_with_multiple_entries(\n",
    "    data_items_df, 'Sampling rate', ref_col='Citation', sep=';\\n', lower=False)\n",
    "fs_df['Sampling rate'] = fs_df['Sampling rate'].astype(float)\n",
    "fs_df = fs_df.loc[fs_df['Sampling rate'] > 0, :]"
   ]
  },
  {
   "cell_type": "code",
   "execution_count": null,
   "metadata": {},
   "outputs": [],
   "source": [
    "device_fs_df = fs_df[['Sampling rate']]\n",
    "device_fs_df = device_fs_df.rename(columns={'Sampling rate': 'value'})\n",
    "device_fs_df['type'] = 'Sampling rate'"
   ]
  },
  {
   "cell_type": "code",
   "execution_count": null,
   "metadata": {},
   "outputs": [],
   "source": [
    "device_ch_df = nb_channels_df[['Nb Channels']]\n",
    "device_ch_df = device_ch_df.rename(columns={'Nb Channels': 'value'})\n",
    "device_ch_df['type'] = 'Number of channels'"
   ]
  },
  {
   "cell_type": "code",
   "execution_count": null,
   "metadata": {},
   "outputs": [],
   "source": [
    "fig, ax = plt.subplots()\n",
    "sns.distplot(nb_channels_df['Nb Channels'], kde=False, norm_hist=False, ax=ax)\n",
    "ax.set_xlabel('Number of EEG channels')\n",
    "ax.set_ylabel('Number of papers')"
   ]
  },
  {
   "cell_type": "markdown",
   "metadata": {},
   "source": [
    "## Cross-validation"
   ]
  },
  {
   "cell_type": "code",
   "execution_count": null,
   "metadata": {},
   "outputs": [],
   "source": [
    "data_items_df = load_data_items()"
   ]
  },
  {
   "cell_type": "code",
   "execution_count": null,
   "metadata": {},
   "outputs": [],
   "source": [
    "data_items_df[col] = data_items_df[col].fillna('N/M')\n",
    "data_items_df[col].unique()"
   ]
  },
  {
   "cell_type": "code",
   "execution_count": null,
   "metadata": {},
   "outputs": [],
   "source": [
    "col = 'Cross validation (clean)'\n",
    "data_items_df[col] = data_items_df[col].fillna('N/M')\n",
    "cv_df = split_column_with_multiple_entries(\n",
    "    data_items_df, col, ref_col='Citation', sep=';\\n', lower=False)"
   ]
  },
  {
   "cell_type": "code",
   "execution_count": null,
   "metadata": {},
   "outputs": [],
   "source": [
    "cv_df[col].value_counts().index"
   ]
  },
  {
   "cell_type": "code",
   "execution_count": null,
   "metadata": {},
   "outputs": [],
   "source": [
    "sns.countplot(y=cv_df[col], order=cv_df[col].value_counts().index)"
   ]
  },
  {
   "cell_type": "markdown",
   "metadata": {},
   "source": [
    "## Intra vs intersubject"
   ]
  },
  {
   "cell_type": "code",
   "execution_count": null,
   "metadata": {},
   "outputs": [],
   "source": [
    "data_items_df['Intra/Inter subject'].value_counts()"
   ]
  },
  {
   "cell_type": "code",
   "execution_count": null,
   "metadata": {},
   "outputs": [],
   "source": [
    "col = 'Intra/Inter subject'\n",
    "counts = data_items_df.groupby(['Year', col]).size().unstack(col)\n",
    "order = data_items_df[col].value_counts().index\n",
    "counts = counts[order]\n",
    "counts.plot(kind='bar', stacked=True, title='')\n",
    "ax.legend()"
   ]
  },
  {
   "cell_type": "markdown",
   "metadata": {},
   "source": [
    "## Dataset table"
   ]
  },
  {
   "cell_type": "code",
   "execution_count": null,
   "metadata": {},
   "outputs": [],
   "source": [
    "def split_column_with_multiple_entries(df, col, ref_col='Citation', sep=';\\n', lower=True):\n",
    "    \"\"\"Split the content of a column that contains more than one value per cell.\n",
    "    \n",
    "    Split the content of cells that contain more than one value. Some cells \n",
    "    contain two or more values for a single data item, e.g., \n",
    "        \n",
    "        Number of subjects: '15, 203, 23'\n",
    "        \n",
    "    A DataFrame where each row contains a single value per cell is returned.\n",
    "    \n",
    "    Args:\n",
    "        df (pd.DataFrame)\n",
    "        col (str): name of the column to split\n",
    "        \n",
    "    Keyword Args:\n",
    "        ref_col (str or list of str): identifier column(s) to use to identify \n",
    "            the row of origin of a splitted value.\n",
    "        sep (str): separator between multiple values\n",
    "        lower (bool): if True, make all values lowercase\n",
    "        \n",
    "    Returns:\n",
    "        (pd.DataFrame)\n",
    "    \"\"\"\n",
    "    df['temp'] = df[col].str.split(sep).apply(lstrip, lower=lower)\n",
    "    \n",
    "    if not isinstance(ref_col, list):\n",
    "        ref_col = [ref_col]\n",
    "    \n",
    "    value_per_row = list()\n",
    "    for i, items in df[[*ref_col, 'temp']].iterrows():\n",
    "        for m in items['temp']:\n",
    "            value_per_row.append([i, *items[ref_col].tolist(), m])\n",
    "\n",
    "    return pd.DataFrame(value_per_row, columns=['paper nb', *ref_col, col])"
   ]
  },
  {
   "cell_type": "code",
   "execution_count": null,
   "metadata": {
    "scrolled": false
   },
   "outputs": [],
   "source": []
  },
  {
   "cell_type": "markdown",
   "metadata": {},
   "source": [
    "## Data"
   ]
  },
  {
   "cell_type": "code",
   "execution_count": 2,
   "metadata": {},
   "outputs": [],
   "source": [
    "import sys\n",
    "sys.path.append('/home/hubert/Documents/dl-eeg-review/code/')\n",
    "import utils as ut\n",
    "\n",
    "import numpy as np"
   ]
  },
  {
   "cell_type": "code",
   "execution_count": 3,
   "metadata": {},
   "outputs": [],
   "source": [
    "data_items_df = ut.load_data_items(start_year=2010)\n",
    "data_items_df = ut.extract_main_domains(data_items_df)"
   ]
  },
  {
   "cell_type": "markdown",
   "metadata": {},
   "source": [
    "### Data (samples)"
   ]
  },
  {
   "cell_type": "code",
   "execution_count": 4,
   "metadata": {},
   "outputs": [],
   "source": [
    "col = 'Data - samples'\n",
    "samples_df = ut.split_column_with_multiple_entries(\n",
    "    data_items_df, col, ref_col=['Citation', 'Main domain', 'ref_nb'], sep=';\\n', lower=False)\n",
    "\n",
    "# Remove N/M and TBD\n",
    "samples_df = samples_df.loc[~samples_df[col].isin(['N/M', 'TBD', '[TBD]'])]\n",
    "samples_df[col] = samples_df[col].astype(int)\n",
    "samples_df = samples_df.sort_values(['Main domain', col])"
   ]
  },
  {
   "cell_type": "code",
   "execution_count": 5,
   "metadata": {},
   "outputs": [],
   "source": [
    "col2 = 'Data - time'\n",
    "time_df = ut.split_column_with_multiple_entries(\n",
    "    data_items_df, col2, ref_col=['Citation', 'Main domain', 'Authors'], sep=';\\n', lower=False)\n",
    "\n",
    "# Remove weird cells\n",
    "time_df = time_df.loc[time_df[col2].apply(len) < 20, :]\n",
    "\n",
    "# Remove N/M and TBD\n",
    "time_df = time_df.loc[~time_df[col2].isin(['N/M', 'TBD', '[TBD]'])]\n",
    "time_df[col2] = time_df[col2].astype(float)\n",
    "time_df = time_df.sort_values(by=col2)\n",
    "time_df = time_df.sort_values(['Main domain', col2])"
   ]
  },
  {
   "cell_type": "code",
   "execution_count": 20,
   "metadata": {},
   "outputs": [
    {
     "data": {
      "image/png": "[encoded data removed]",
      "text/plain": [
       "<Figure size 1080x360 with 1 Axes>"
      ]
     },
     "metadata": {
      "needs_background": "light"
     },
     "output_type": "display_data"
    }
   ],
   "source": [
    "fig, ax = plt.subplots(figsize=(15, 5))\n",
    "ax.set(xscale='linear', yscale='log')\n",
    "sns.scatterplot(x='ref_nb', y=col, hue='Main domain', data=samples_df, ax=ax)\n",
    "ax.set_ylabel('Number of training samples')\n",
    "ax.set_xlabel('')\n",
    "ax.set_xlim([0.1, None])\n",
    "plt.xticks(rotation='vertical'); # plt.tight_layout()\n",
    "\n",
    "ax.set_yticks(np.power(10, [2, 3, 4, 5, 6, 7]))\n",
    "\n",
    "from matplotlib.ticker import ScalarFormatter\n",
    "# ax.yaxis.set_major_formatter(ScalarFormatter())"
   ]
  },
  {
   "cell_type": "code",
   "execution_count": null,
   "metadata": {},
   "outputs": [],
   "source": [
    "fig, ax = plt.subplots(figsize=(5, 15))\n",
    "ax.set(xscale='log', yscale='linear')\n",
    "sns.scatterplot(y='ref_nb', x=col, hue='Main domain', data=samples_df, ax=ax)\n",
    "ax.set_xlabel('Number of training samples')\n",
    "ax.set_ylabel('')\n",
    "ax.set_ylim([0.1, None])\n",
    "# plt.xticks(rotation='vertical'); # plt.tight_layout()"
   ]
  },
  {
   "cell_type": "markdown",
   "metadata": {},
   "source": [
    "### Data (time)"
   ]
  },
  {
   "cell_type": "code",
   "execution_count": null,
   "metadata": {},
   "outputs": [],
   "source": [
    "col2 = 'Data - time'\n",
    "time_df = ut.split_column_with_multiple_entries(\n",
    "    data_items_df, col2, ref_col=['Citation', 'Main domain', 'Authors'], sep=';\\n', lower=False)\n",
    "\n",
    "# Remove weird cells\n",
    "time_df = time_df.loc[time_df[col2].apply(len) < 20, :]\n",
    "\n",
    "# Remove N/M and TBD\n",
    "time_df = time_df.loc[~time_df[col2].isin(['N/M', 'TBD', '[TBD]'])]\n",
    "time_df[col2] = time_df[col2].astype(float)\n",
    "time_df = time_df.sort_values(by=col2)\n",
    "time_df = time_df.sort_values(['Main domain', col2])"
   ]
  },
  {
   "cell_type": "code",
   "execution_count": null,
   "metadata": {},
   "outputs": [],
   "source": [
    "time_df.head()"
   ]
  },
  {
   "cell_type": "code",
   "execution_count": null,
   "metadata": {},
   "outputs": [],
   "source": [
    "fig, ax = plt.subplots(figsize=(8, 12))\n",
    "ax.set(xscale='log', yscale='linear')\n",
    "sns.scatterplot(y='Citation', x=col2, hue='Main domain', data=time_df, ax=ax)\n",
    "ax.set_xlabel('Time (min)')\n",
    "ax.set_ylabel('')\n",
    "ax.set_xlim([1, None])\n",
    "# plt.tight_layout()"
   ]
  },
  {
   "cell_type": "markdown",
   "metadata": {},
   "source": [
    "### Merging sampling and time information (univariate plots)"
   ]
  },
  {
   "cell_type": "code",
   "execution_count": null,
   "metadata": {},
   "outputs": [],
   "source": [
    "fig, axes = plt.subplots(ncols=2, nrows=1, figsize=(12, 12))\n",
    "\n",
    "axes[0].set(xscale='log', yscale='linear')\n",
    "sns.scatterplot(y='Citation', x=col, hue='Main domain', data=samples_df, ax=axes[0])\n",
    "axes[0].set_xlabel('Number of training samples')\n",
    "axes[0].set_ylabel('')\n",
    "axes[0].set_xlim([1, None])\n",
    "\n",
    "\n",
    "inds = samples_df.index\n",
    "\n",
    "axes[1].set(xscale='log', yscale='linear')\n",
    "sns.scatterplot(y='Citation', x=col2, hue='Main domain', data=time_df.iloc[inds], ax=axes[1])\n",
    "axes[1].set_xlabel('Time (min)')\n",
    "axes[1].set_ylabel('')\n",
    "axes[1].set_xlim([1, None])\n",
    "\n",
    "plt.tight_layout()"
   ]
  },
  {
   "cell_type": "markdown",
   "metadata": {},
   "source": [
    "### Merging samples and time information (bivariate plot)"
   ]
  },
  {
   "cell_type": "code",
   "execution_count": null,
   "metadata": {},
   "outputs": [],
   "source": [
    "data_df['data_ratio'] = data_df['Data - samples'] / data_df['Data - time']\n",
    "data_df = data_df.sort_values(['Main domain', 'data_ratio'])\n",
    "\n",
    "fig, ax = plt.subplots(figsize=(9.5, 11))\n",
    "sns.scatterplot(x='data_ratio', y='Citation', hue='Main domain', data=data_df)"
   ]
  },
  {
   "cell_type": "code",
   "execution_count": null,
   "metadata": {},
   "outputs": [],
   "source": [
    "fig, ax = plt.subplots(figsize=(9, 9))\n",
    "sns.scatterplot(x='Data - samples', y='Data - time', hue='Main domain', s=30, data=data_df, ax=ax)\n",
    "ax.set(xscale='log', yscale='log')\n",
    "ax.set_xlabel('Number of training samples')\n",
    "ax.set_ylabel('Time (min)')\n",
    "ax.set_title('Amount of data used in studies')\n",
    "# plt.axis('square')"
   ]
  },
  {
   "cell_type": "markdown",
   "metadata": {},
   "source": [
    "## Extract reference numbers from .bbl file"
   ]
  },
  {
   "cell_type": "code",
   "execution_count": null,
   "metadata": {},
   "outputs": [],
   "source": [
    "import re"
   ]
  },
  {
   "cell_type": "code",
   "execution_count": null,
   "metadata": {},
   "outputs": [],
   "source": [
    "def extract_ref_numbers_from_bbl(df, filename=None):\n",
    "    \"\"\"Extract reference numbers from .bbl file and add them to df.\n",
    "    \n",
    "    Args:\n",
    "        df (pd.DataFrame): dataframe containing the data items\n",
    "            spreadsheet.\n",
    "    \n",
    "    Keyword Args:\n",
    "        filename (str): path to the .bbl file (created when compiling\n",
    "            the main tex file).\n",
    "            \n",
    "    Returns:\n",
    "        (pd.DataFrame): dataframe with new column 'ref_nb'.\n",
    "    \"\"\"\n",
    "    filename = '../data/output.bbl'\n",
    "    with open(filename, 'r', encoding = 'ISO-8859-1') as f:\n",
    "        text = ''.join(f.readlines())\n",
    "\n",
    "    ref_nbs = re.findall(r'\\\\bibitem\\{(.*)\\}', text)\n",
    "    ref_dict = {ref: i + 1 for i, ref in enumerate(ref_nbs)}\n",
    "\n",
    "    df['ref_nb'] = df['Citation'].apply(lambda x: '[{}]'.format(ref_dict[x]))\n",
    "\n",
    "    return df"
   ]
  },
  {
   "cell_type": "code",
   "execution_count": null,
   "metadata": {},
   "outputs": [],
   "source": [
    "data_items_df = extract_ref_numbers_from_bbl(data_items_df)\n",
    "data_items_df"
   ]
  }
 ],
 "metadata": {
  "kernelspec": {
   "display_name": "Python 3",
   "language": "python",
   "name": "python3"
  },
  "language_info": {
   "codemirror_mode": {
    "name": "ipython",
    "version": 3
   },
   "file_extension": ".py",
   "mimetype": "text/x-python",
   "name": "python",
   "nbconvert_exporter": "python",
   "pygments_lexer": "ipython3",
   "version": "3.6.6"
  }
 },
 "nbformat": 4,
 "nbformat_minor": 2
}
